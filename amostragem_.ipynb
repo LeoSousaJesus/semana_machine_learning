{
  "nbformat": 4,
  "nbformat_minor": 0,
  "metadata": {
    "colab": {
      "provenance": []
    },
    "kernelspec": {
      "name": "python3",
      "display_name": "Python 3"
    },
    "language_info": {
      "name": "python"
    }
  },
  "cells": [
    {
      "cell_type": "markdown",
      "source": [
        "# Sobre-amostragem (Oversampling) e Subamostragem (Undersampling): Equilibrando Classes em Dados Desbalanceados"
      ],
      "metadata": {
        "id": "Nkmu0CBplN37"
      }
    },
    {
      "cell_type": "markdown",
      "source": [
        "## O que são dados desbalanceados?\n",
        "\n",
        "Em muitos conjuntos de dados, especialmente em problemas de classificação, as classes não possuem a mesma quantidade de exemplos. Isso significa que uma classe pode ter muitos mais exemplos do que outra. Essa desproporção é conhecida como desbalanceamento de classes e pode prejudicar a performance de modelos de machine learning, pois eles tendem a ser enviesados para a classe majoritária."
      ],
      "metadata": {
        "id": "QwyxdVvul0-p"
      }
    },
    {
      "cell_type": "markdown",
      "source": [
        "## Por que é importante lidar com o desbalanceamento de classes?\n",
        "\n",
        "- Baixa acurácia para a classe minoritária: Modelos treinados em dados desbalanceados tendem a ter alta acurácia geral, mas baixa acurácia para a classe minoritária.\n",
        "- Custos desiguais de classificação: Em muitos casos, o custo de classificar erroneamente um exemplo da classe minoritária é maior do que o custo de classificar erroneamente um exemplo da classe majoritária."
      ],
      "metadata": {
        "id": "ePxdvmoLl_Yh"
      }
    },
    {
      "cell_type": "markdown",
      "source": [
        "## Técnicas de Sobre-amostragem e Subamostragem\n",
        "\n",
        "Para lidar com o desbalanceamento de classes, são utilizadas técnicas de reamostragem, que visam equilibrar as classes. As duas técnicas mais comuns são a sobre-amostragem e a subamostragem.\n",
        "\n",
        "### Sobre-amostragem (Oversampling):<br>\n",
        "* Conceito: Consiste em aumentar o número de exemplos da classe minoritária, duplicando aleatoriamente os exemplos existentes ou gerando novos exemplos sintéticos.\n",
        "<br><br>\n",
        "* Técnicas:<br><br>\n",
        "1.   Remoção aleatória: A maneira mais simples, mas pode levar à perda de informações importantes.<br><br>\n",
        "2.   Tomek links: Remove os pares de exemplos de classes diferentes que estão mais próximos entre si.<br><br>\n",
        "3. ENN (Edited Nearest Neighbors): Remove os exemplos da classe majoritária que são classificados incorretamente pelos seus vizinhos mais próximos.\n",
        "\n",
        "<br><br>\n",
        "\n",
        "##Quando usar cada técnica?\n",
        "\n",
        "- Sobre-amostragem: É mais indicada quando o conjunto de dados da classe minoritária é pequeno e há poucas informações sobre essa classe.<br><br>\n",
        "- Subamostragem: É mais indicada quando o conjunto de dados da classe majoritária é muito grande e a remoção de alguns exemplos não causa perda significativa de informação.<br><br>\n",
        "\n",
        "### Considerações importantes:\n",
        "\n",
        "- Combinação de técnicas: Em alguns casos, a combinação de sobre-amostragem e subamostragem pode levar a melhores resultados.<br><br>\n",
        "- Outras técnicas: Existem outras técnicas mais avançadas, como o balanceamento de custos e o uso de algoritmos de aprendizado que lidam naturalmente com dados desbalanceados.<br><br>\n",
        "- Avaliação da performance: É fundamental avaliar a performance dos modelos utilizando métricas adequadas, como a precisão, o recall e a F1-score, para cada classe.\n",
        "\n",
        "\n"
      ],
      "metadata": {
        "id": "VHHJP-OTmcbi"
      }
    },
    {
      "cell_type": "markdown",
      "source": [
        "## Em resumo:\n",
        "\n",
        "### A escolha da técnica de reamostragem adequada depende das características do conjunto de dados e do problema específico. É importante experimentar diferentes técnicas e avaliar a performance dos modelos para encontrar a melhor solução.<br><br>\n",
        "\n",
        "### Gostaria de saber mais sobre alguma dessas técnicas ou sobre como aplicá-las em um problema específico?<br><br>\n",
        "\n",
        "### Palavras-chave: desbalanceamento de classes, oversampling, undersampling, SMOTE, ADASYN, Tomek links, ENN, machine learning.<br><br>\n",
        "\n",
        "### Observação: As informações aqui apresentadas são de caráter geral e podem variar dependendo do contexto e dos dados. Recomenda-se consultar a literatura especializada para uma compreensão mais aprofundada das técnicas de reamostragem."
      ],
      "metadata": {
        "id": "LvoW9sALoay5"
      }
    },
    {
      "cell_type": "markdown",
      "source": [
        "# Exemplo Prático de Sobre-amostragem e Subamostragem com Scikit-learn\n",
        "\n",
        "- Entendendo o Problema:\n",
        "\n",
        "Vamos considerar um problema de classificação binária onde queremos prever se um cliente irá cancelar sua assinatura de um serviço de streaming. Imagine que temos um conjunto de dados com muitos mais clientes que não cancelaram (classe majoritária) do que clientes que cancelaram (classe minoritária)."
      ],
      "metadata": {
        "id": "rnyfoLyeo-GF"
      }
    },
    {
      "cell_type": "markdown",
      "source": [
        "# Importando as Bibliotecas:"
      ],
      "metadata": {
        "id": "lx2e246VpJuP"
      }
    },
    {
      "cell_type": "code",
      "execution_count": 1,
      "metadata": {
        "id": "JqlKTd9nlMoM"
      },
      "outputs": [],
      "source": [
        "from sklearn.datasets import make_classification\n",
        "from sklearn.model_selection import train_test_split\n",
        "from sklearn.ensemble import RandomForestClassifier\n",
        "from sklearn.metrics import classification_report\n",
        "from imblearn.over_sampling import SMOTE\n",
        "from imblearn.under_sampling import RandomUnderSampler"
      ]
    },
    {
      "cell_type": "markdown",
      "source": [
        "## Gerando Dados Sintéticos Desbalanceados:\n"
      ],
      "metadata": {
        "id": "DcnW_T1-pQQA"
      }
    },
    {
      "cell_type": "code",
      "source": [
        "# Gerando dados sintéticos desbalanceados\n",
        "X, y = make_classification(n_samples=1000, n_features=20, weights=[0.9, 0.1], random_state=42)\n",
        "\n",
        "# Dividindo os dados em treino e teste\n",
        "X_train, X_test, y_train, y_test = train_test_split(X, y, test_size=0.2, random_state=42)"
      ],
      "metadata": {
        "id": "qPQwM2jdpVwY"
      },
      "execution_count": 2,
      "outputs": []
    },
    {
      "cell_type": "markdown",
      "source": [
        "## Aplicando Sobre-amostragem com SMOTE:\n",
        "\n"
      ],
      "metadata": {
        "id": "NfdEGreEpg_Q"
      }
    },
    {
      "cell_type": "code",
      "source": [
        "# Inicializando o SMOTE\n",
        "smote = SMOTE(random_state=42)\n",
        "\n",
        "# Aplicando o SMOTE aos dados de treino\n",
        "X_train_smote, y_train_smote = smote.fit_resample(X_train, y_train)\n",
        "\n",
        "# Treinando o modelo\n",
        "model = RandomForestClassifier(random_state=42)\n",
        "model.fit(X_train_smote, y_train_smote)\n",
        "\n",
        "# Fazendo previsões e avaliando o modelo\n",
        "y_pred = model.predict(X_test)\n",
        "print(classification_report(y_test, y_pred))"
      ],
      "metadata": {
        "colab": {
          "base_uri": "https://localhost:8080/"
        },
        "id": "RuVJQUVlpmTf",
        "outputId": "10af23ad-3fda-4e65-8efd-b9d393bb5f00"
      },
      "execution_count": 3,
      "outputs": [
        {
          "output_type": "stream",
          "name": "stdout",
          "text": [
            "              precision    recall  f1-score   support\n",
            "\n",
            "           0       0.96      0.97      0.97       180\n",
            "           1       0.72      0.65      0.68        20\n",
            "\n",
            "    accuracy                           0.94       200\n",
            "   macro avg       0.84      0.81      0.83       200\n",
            "weighted avg       0.94      0.94      0.94       200\n",
            "\n"
          ]
        }
      ]
    },
    {
      "cell_type": "markdown",
      "source": [
        "## Aplicando Subamostragem Aleatória:"
      ],
      "metadata": {
        "id": "0cVtn4uippP4"
      }
    },
    {
      "cell_type": "code",
      "source": [
        "# Inicializando o RandomUnderSampler\n",
        "rus = RandomUnderSampler(random_state=42)\n",
        "\n",
        "# Aplicando o RandomUnderSampler aos dados de treino\n",
        "X_train_rus, y_train_rus = rus.fit_resample(X_train, y_train)\n",
        "\n",
        "# Treinando o modelo\n",
        "model = RandomForestClassifier(random_state=42)\n",
        "model.fit(X_train_rus, y_train_rus)\n",
        "\n",
        "# Fazendo previsões e avaliando o modelo\n",
        "y_pred = model.predict(X_test)\n",
        "print(classification_report(y_test, y_pred))"
      ],
      "metadata": {
        "colab": {
          "base_uri": "https://localhost:8080/"
        },
        "id": "dqqCSEIdpr0P",
        "outputId": "2c1f8ccb-2e0d-4b38-f09f-4c51c30f788a"
      },
      "execution_count": 4,
      "outputs": [
        {
          "output_type": "stream",
          "name": "stdout",
          "text": [
            "              precision    recall  f1-score   support\n",
            "\n",
            "           0       0.98      0.88      0.93       180\n",
            "           1       0.43      0.80      0.56        20\n",
            "\n",
            "    accuracy                           0.88       200\n",
            "   macro avg       0.70      0.84      0.74       200\n",
            "weighted avg       0.92      0.88      0.89       200\n",
            "\n"
          ]
        }
      ]
    },
    {
      "cell_type": "markdown",
      "source": [
        "## Explicando o Código:\n",
        "\n",
        "1. Geração de dados: Criamos um conjunto de dados sintético com desbalanceamento de classes.\n",
        "2. Divisão dos dados: Separamos os dados em conjuntos de treinamento e teste.\n",
        "3. Sobre-amostragem com SMOTE:\n",
        "- Criamos instâncias sintéticas da classe minoritária para equilibrar as classes.\n",
        "- Treinamos um modelo de Random Forest com os dados balanceados.\n",
        "4. Subamostragem aleatória:\n",
        "- Removemos aleatoriamente instâncias da classe majoritária para equilibrar as classes.\n",
        "- Treinamos um modelo de Random Forest com os dados balanceados.\n",
        "5. Avaliação: Utilizamos o classification_report para avaliar a performance dos modelos, incluindo métricas como precisão, recall e F1-score."
      ],
      "metadata": {
        "id": "Y-ezezhV-mqQ"
      }
    },
    {
      "cell_type": "markdown",
      "source": [
        "## Observações:\n",
        "\n",
        "- Escolha da técnica: A escolha entre sobre-amostragem e subamostragem depende do problema específico e do conjunto de dados.\n",
        "- Outras técnicas: Existem outras técnicas de sobre-amostragem e subamostragem disponíveis no imblearn.\n",
        "- Combinação de técnicas: Em alguns casos, a combinação de diferentes técnicas pode melhorar os resultados.\n",
        "- Hyperparameter tuning: É importante ajustar os hiperparâmetros do modelo e das técnicas de reamostragem para obter os melhores resultados."
      ],
      "metadata": {
        "id": "LQ7-N4yI-6Z-"
      }
    },
    {
      "cell_type": "markdown",
      "source": [
        "Próximos Passos:\n",
        "\n",
        "- Experimente com outros algoritmos: Além do Random Forest, você pode experimentar com outros algoritmos como SVM, Naive Bayes, etc.\n",
        "- Avalie diferentes métricas: Além do classification_report, você pode utilizar outras métricas como a curva ROC e a área sob a curva (AUC).\n",
        "- Considere o custo de cada erro: Em alguns casos, o custo de classificar erroneamente um exemplo da classe minoritária é maior do que o custo de classificar erroneamente um exemplo da classe majoritária.\n",
        "- Explore outras técnicas: Além do SMOTE e do RandomUnderSampler, existem outras técnicas como ADASYN, Tomek links, etc."
      ],
      "metadata": {
        "id": "72QUmpMt_Ee2"
      }
    },
    {
      "cell_type": "markdown",
      "source": [
        "# Lembre-se: O tratamento de dados desbalanceados é um desafio comum em machine learning. A escolha da técnica adequada e a avaliação cuidadosa dos resultados são essenciais para obter modelos robustos e confiáveis."
      ],
      "metadata": {
        "id": "xGjpj2BE_WON"
      }
    },
    {
      "cell_type": "code",
      "source": [
        "# prompt: Gere um código usando Scikit Learn para uma avaliação de filmes\n",
        "# gere um exemplo de gráfico\n",
        "\n",
        "import pandas as pd\n",
        "import numpy as np\n",
        "import matplotlib.pyplot as plt\n",
        "from sklearn.model_selection import train_test_split\n",
        "from sklearn.linear_model import LinearRegression\n",
        "from sklearn.metrics import mean_squared_error\n",
        "\n",
        "# Criando um conjunto de dados de exemplo\n",
        "data = {\n",
        "    'budget': [10, 20, 15, 30, 25],\n",
        "    'marketing': [5, 10, 7, 15, 12],\n",
        "    'rating': [7.5, 8.0, 7.0, 8.5, 8.2]\n",
        "}\n",
        "\n",
        "df = pd.DataFrame(data)\n",
        "\n",
        "# Separando as variáveis independentes (X) da variável dependente (y)\n",
        "X = df[['budget', 'marketing']]\n",
        "y = df['rating']\n",
        "\n",
        "# Dividindo os dados em conjuntos de treino e teste\n",
        "X_train, X_test, y_train, y_test = train_test_split(X, y, test_size=0.2, random_state=42)\n",
        "\n",
        "# Treinando o modelo de regressão linear\n",
        "model = LinearRegression()\n",
        "model.fit(X_train, y_train)\n",
        "\n",
        "# Fazendo previsões no conjunto de teste\n",
        "y_pred = model.predict(X_test)\n",
        "\n",
        "# Avaliando o modelo\n",
        "mse = mean_squared_error(y_test, y_pred)\n",
        "print(f'Erro médio quadrático (MSE): {mse}')\n",
        "\n",
        "# Criando um gráfico de dispersão das previsões vs. valores reais\n",
        "plt.scatter(y_test, y_pred)\n",
        "plt.xlabel('Rating Real')\n",
        "plt.ylabel('Rating Previsto')\n",
        "plt.title('Previsões vs. Valores Reais')\n",
        "plt.show()\n"
      ],
      "metadata": {
        "colab": {
          "base_uri": "https://localhost:8080/",
          "height": 489
        },
        "id": "6GmxI_RdCWox",
        "outputId": "10ed2203-ff04-4a4e-9a36-426cda3b0646"
      },
      "execution_count": 5,
      "outputs": [
        {
          "output_type": "stream",
          "name": "stdout",
          "text": [
            "Erro médio quadrático (MSE): 7.888609052210118e-31\n"
          ]
        },
        {
          "output_type": "display_data",
          "data": {
            "text/plain": [
              "<Figure size 640x480 with 1 Axes>"
            ],
            "image/png": "[encoded data removed]"
          },
          "metadata": {}
        }
      ]
    }
  ]
}